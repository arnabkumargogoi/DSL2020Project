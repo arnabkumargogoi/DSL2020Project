{
  "nbformat": 4,
  "nbformat_minor": 0,
  "metadata": {
    "colab": {
      "name": "02 Amazon100Besteselllers.ipynb",
      "provenance": [],
      "collapsed_sections": [],
      "mount_file_id": "1Qn4RmA9Pn8l7D2MvgKAPi95qQhnmKnnq",
      "authorship_tag": "ABX9TyOYltf+kB4CIyx5/rZx13Dw",
      "include_colab_link": true
    },
    "kernelspec": {
      "name": "python3",
      "display_name": "Python 3"
    }
  },
  "cells": [
    {
      "cell_type": "markdown",
      "metadata": {
        "id": "view-in-github",
        "colab_type": "text"
      },
      "source": [
        "<a href=\"https://colab.research.google.com/github/arnabkumargogoi/DSL2020Project/blob/main/02_Amazon100Besteselllers.ipynb\" target=\"_parent\"><img src=\"https://colab.research.google.com/assets/colab-badge.svg\" alt=\"Open In Colab\"/></a>"
      ]
    },
    {
      "cell_type": "code",
      "metadata": {
        "id": "9drpVhPeSNfW"
      },
      "source": [
        "#Loading the data\r\n",
        "import pandas as pd\r\n",
        "import numpy as np"
      ],
      "execution_count": null,
      "outputs": []
    },
    {
      "cell_type": "code",
      "metadata": {
        "colab": {
          "base_uri": "https://localhost:8080/",
          "height": 289
        },
        "id": "KvAls67VR2HC",
        "outputId": "c38d1608-44d2-49ed-c2bb-fa16c13427fa"
      },
      "source": [
        "file1 = '/content/drive/MyDrive/Colab Notebooks/DSL Project/top 100.csv'\r\n",
        "df = pd.read_csv(file1, encoding=\"UTF-8\") \r\n",
        "df.head(5)"
      ],
      "execution_count": null,
      "outputs": [
        {
          "output_type": "execute_result",
          "data": {
            "text/html": [
              "<div>\n",
              "<style scoped>\n",
              "    .dataframe tbody tr th:only-of-type {\n",
              "        vertical-align: middle;\n",
              "    }\n",
              "\n",
              "    .dataframe tbody tr th {\n",
              "        vertical-align: top;\n",
              "    }\n",
              "\n",
              "    .dataframe thead th {\n",
              "        text-align: right;\n",
              "    }\n",
              "</style>\n",
              "<table border=\"1\" class=\"dataframe\">\n",
              "  <thead>\n",
              "    <tr style=\"text-align: right;\">\n",
              "      <th></th>\n",
              "      <th>#</th>\n",
              "      <th>Model Name</th>\n",
              "      <th>Color Varient</th>\n",
              "      <th>Color</th>\n",
              "      <th>RAM</th>\n",
              "      <th>Storage</th>\n",
              "      <th>avg rating</th>\n",
              "      <th>Reviews</th>\n",
              "      <th>Price</th>\n",
              "    </tr>\n",
              "  </thead>\n",
              "  <tbody>\n",
              "    <tr>\n",
              "      <th>0</th>\n",
              "      <td>1</td>\n",
              "      <td>OnePlus Nord 5G (Gray Onyx, 8GB RAM, 128GB Sto...</td>\n",
              "      <td>Gray Onyx</td>\n",
              "      <td>Gray</td>\n",
              "      <td>8GB</td>\n",
              "      <td>128GB</td>\n",
              "      <td>4.2</td>\n",
              "      <td>27648</td>\n",
              "      <td>27999</td>\n",
              "    </tr>\n",
              "    <tr>\n",
              "      <th>1</th>\n",
              "      <td>2</td>\n",
              "      <td>OnePlus Nord 5G (Gray Ash, 12GB RAM, 256GB Sto...</td>\n",
              "      <td>Gray Ash</td>\n",
              "      <td>Gray</td>\n",
              "      <td>12GB</td>\n",
              "      <td>256GB</td>\n",
              "      <td>4.2</td>\n",
              "      <td>27648</td>\n",
              "      <td>29999</td>\n",
              "    </tr>\n",
              "    <tr>\n",
              "      <th>2</th>\n",
              "      <td>3</td>\n",
              "      <td>Redmi 9 Prime (Space Blue, 4GB RAM, 64GB Stora...</td>\n",
              "      <td>Space Blue</td>\n",
              "      <td>Blue</td>\n",
              "      <td>4GB</td>\n",
              "      <td>64GB</td>\n",
              "      <td>4.2</td>\n",
              "      <td>9477</td>\n",
              "      <td>9999</td>\n",
              "    </tr>\n",
              "    <tr>\n",
              "      <th>3</th>\n",
              "      <td>4</td>\n",
              "      <td>Redmi 9A (Sea Blue, 3GB Ram, 32GB Storage)</td>\n",
              "      <td>Sea Blue</td>\n",
              "      <td>Blue</td>\n",
              "      <td>3GB</td>\n",
              "      <td>32GB</td>\n",
              "      <td>4.1</td>\n",
              "      <td>9286</td>\n",
              "      <td>7499</td>\n",
              "    </tr>\n",
              "    <tr>\n",
              "      <th>4</th>\n",
              "      <td>5</td>\n",
              "      <td>Samsung Galaxy M31 Prime Edition (Ocean Blue, ...</td>\n",
              "      <td>Ocean Blue</td>\n",
              "      <td>Blue</td>\n",
              "      <td>6GB</td>\n",
              "      <td>128GB</td>\n",
              "      <td>4.2</td>\n",
              "      <td>119885</td>\n",
              "      <td>16499</td>\n",
              "    </tr>\n",
              "  </tbody>\n",
              "</table>\n",
              "</div>"
            ],
            "text/plain": [
              "   #                                         Model Name  ... Reviews  Price\n",
              "0  1  OnePlus Nord 5G (Gray Onyx, 8GB RAM, 128GB Sto...  ...   27648  27999\n",
              "1  2  OnePlus Nord 5G (Gray Ash, 12GB RAM, 256GB Sto...  ...   27648  29999\n",
              "2  3  Redmi 9 Prime (Space Blue, 4GB RAM, 64GB Stora...  ...    9477   9999\n",
              "3  4         Redmi 9A (Sea Blue, 3GB Ram, 32GB Storage)  ...    9286   7499\n",
              "4  5  Samsung Galaxy M31 Prime Edition (Ocean Blue, ...  ...  119885  16499\n",
              "\n",
              "[5 rows x 9 columns]"
            ]
          },
          "metadata": {
            "tags": []
          },
          "execution_count": 2
        }
      ]
    },
    {
      "cell_type": "code",
      "metadata": {
        "colab": {
          "base_uri": "https://localhost:8080/"
        },
        "id": "2reoW5iSSBNv",
        "outputId": "b543fd5c-56a1-4bfa-9a61-49a23e087533"
      },
      "source": [
        "df.shape"
      ],
      "execution_count": null,
      "outputs": [
        {
          "output_type": "execute_result",
          "data": {
            "text/plain": [
              "(100, 9)"
            ]
          },
          "metadata": {
            "tags": []
          },
          "execution_count": 3
        }
      ]
    },
    {
      "cell_type": "code",
      "metadata": {
        "colab": {
          "base_uri": "https://localhost:8080/"
        },
        "id": "y9Ju82TwSeyf",
        "outputId": "5b749692-74a3-45b9-e9f8-38a821aa0a02"
      },
      "source": [
        "# any null columns\r\n",
        "df.isnull().sum()"
      ],
      "execution_count": null,
      "outputs": [
        {
          "output_type": "execute_result",
          "data": {
            "text/plain": [
              "#                0\n",
              "Model Name       0\n",
              "Color Varient    0\n",
              "Color            0\n",
              "RAM              0\n",
              "Storage          0\n",
              "avg rating       0\n",
              "Reviews          0\n",
              "Price            0\n",
              "dtype: int64"
            ]
          },
          "metadata": {
            "tags": []
          },
          "execution_count": 4
        }
      ]
    },
    {
      "cell_type": "code",
      "metadata": {
        "colab": {
          "base_uri": "https://localhost:8080/",
          "height": 340
        },
        "id": "dbwfecnTSo-A",
        "outputId": "327243f7-21ca-45f4-bd33-f529c75dbd00"
      },
      "source": [
        "# From the Model Name we extract the Model\r\n",
        "df['Model'] = df['Model Name'].str.split('(').str[0]\r\n",
        "df.head()"
      ],
      "execution_count": null,
      "outputs": [
        {
          "output_type": "execute_result",
          "data": {
            "text/html": [
              "<div>\n",
              "<style scoped>\n",
              "    .dataframe tbody tr th:only-of-type {\n",
              "        vertical-align: middle;\n",
              "    }\n",
              "\n",
              "    .dataframe tbody tr th {\n",
              "        vertical-align: top;\n",
              "    }\n",
              "\n",
              "    .dataframe thead th {\n",
              "        text-align: right;\n",
              "    }\n",
              "</style>\n",
              "<table border=\"1\" class=\"dataframe\">\n",
              "  <thead>\n",
              "    <tr style=\"text-align: right;\">\n",
              "      <th></th>\n",
              "      <th>#</th>\n",
              "      <th>Model Name</th>\n",
              "      <th>Color Varient</th>\n",
              "      <th>Color</th>\n",
              "      <th>RAM</th>\n",
              "      <th>Storage</th>\n",
              "      <th>avg rating</th>\n",
              "      <th>Reviews</th>\n",
              "      <th>Price</th>\n",
              "      <th>Model</th>\n",
              "    </tr>\n",
              "  </thead>\n",
              "  <tbody>\n",
              "    <tr>\n",
              "      <th>0</th>\n",
              "      <td>1</td>\n",
              "      <td>OnePlus Nord 5G (Gray Onyx, 8GB RAM, 128GB Sto...</td>\n",
              "      <td>Gray Onyx</td>\n",
              "      <td>Gray</td>\n",
              "      <td>8GB</td>\n",
              "      <td>128GB</td>\n",
              "      <td>4.2</td>\n",
              "      <td>27648</td>\n",
              "      <td>27999</td>\n",
              "      <td>OnePlus Nord 5G</td>\n",
              "    </tr>\n",
              "    <tr>\n",
              "      <th>1</th>\n",
              "      <td>2</td>\n",
              "      <td>OnePlus Nord 5G (Gray Ash, 12GB RAM, 256GB Sto...</td>\n",
              "      <td>Gray Ash</td>\n",
              "      <td>Gray</td>\n",
              "      <td>12GB</td>\n",
              "      <td>256GB</td>\n",
              "      <td>4.2</td>\n",
              "      <td>27648</td>\n",
              "      <td>29999</td>\n",
              "      <td>OnePlus Nord 5G</td>\n",
              "    </tr>\n",
              "    <tr>\n",
              "      <th>2</th>\n",
              "      <td>3</td>\n",
              "      <td>Redmi 9 Prime (Space Blue, 4GB RAM, 64GB Stora...</td>\n",
              "      <td>Space Blue</td>\n",
              "      <td>Blue</td>\n",
              "      <td>4GB</td>\n",
              "      <td>64GB</td>\n",
              "      <td>4.2</td>\n",
              "      <td>9477</td>\n",
              "      <td>9999</td>\n",
              "      <td>Redmi 9 Prime</td>\n",
              "    </tr>\n",
              "    <tr>\n",
              "      <th>3</th>\n",
              "      <td>4</td>\n",
              "      <td>Redmi 9A (Sea Blue, 3GB Ram, 32GB Storage)</td>\n",
              "      <td>Sea Blue</td>\n",
              "      <td>Blue</td>\n",
              "      <td>3GB</td>\n",
              "      <td>32GB</td>\n",
              "      <td>4.1</td>\n",
              "      <td>9286</td>\n",
              "      <td>7499</td>\n",
              "      <td>Redmi 9A</td>\n",
              "    </tr>\n",
              "    <tr>\n",
              "      <th>4</th>\n",
              "      <td>5</td>\n",
              "      <td>Samsung Galaxy M31 Prime Edition (Ocean Blue, ...</td>\n",
              "      <td>Ocean Blue</td>\n",
              "      <td>Blue</td>\n",
              "      <td>6GB</td>\n",
              "      <td>128GB</td>\n",
              "      <td>4.2</td>\n",
              "      <td>119885</td>\n",
              "      <td>16499</td>\n",
              "      <td>Samsung Galaxy M31 Prime Edition</td>\n",
              "    </tr>\n",
              "  </tbody>\n",
              "</table>\n",
              "</div>"
            ],
            "text/plain": [
              "   #  ...                              Model\n",
              "0  1  ...                   OnePlus Nord 5G \n",
              "1  2  ...                   OnePlus Nord 5G \n",
              "2  3  ...                     Redmi 9 Prime \n",
              "3  4  ...                          Redmi 9A \n",
              "4  5  ...  Samsung Galaxy M31 Prime Edition \n",
              "\n",
              "[5 rows x 10 columns]"
            ]
          },
          "metadata": {
            "tags": []
          },
          "execution_count": 5
        }
      ]
    },
    {
      "cell_type": "code",
      "metadata": {
        "colab": {
          "base_uri": "https://localhost:8080/",
          "height": 357
        },
        "id": "W_FgTn6KS69f",
        "outputId": "3bd47422-7a0e-4cd8-e064-52df4869aa92"
      },
      "source": [
        "# From the Model Name we extract the Model\r\n",
        "df['Brand'] = df['Model'].str.split(' ').str[0]\r\n",
        "df.head()"
      ],
      "execution_count": null,
      "outputs": [
        {
          "output_type": "execute_result",
          "data": {
            "text/html": [
              "<div>\n",
              "<style scoped>\n",
              "    .dataframe tbody tr th:only-of-type {\n",
              "        vertical-align: middle;\n",
              "    }\n",
              "\n",
              "    .dataframe tbody tr th {\n",
              "        vertical-align: top;\n",
              "    }\n",
              "\n",
              "    .dataframe thead th {\n",
              "        text-align: right;\n",
              "    }\n",
              "</style>\n",
              "<table border=\"1\" class=\"dataframe\">\n",
              "  <thead>\n",
              "    <tr style=\"text-align: right;\">\n",
              "      <th></th>\n",
              "      <th>#</th>\n",
              "      <th>Model Name</th>\n",
              "      <th>Color Varient</th>\n",
              "      <th>Color</th>\n",
              "      <th>RAM</th>\n",
              "      <th>Storage</th>\n",
              "      <th>avg rating</th>\n",
              "      <th>Reviews</th>\n",
              "      <th>Price</th>\n",
              "      <th>Model</th>\n",
              "      <th>Brand</th>\n",
              "    </tr>\n",
              "  </thead>\n",
              "  <tbody>\n",
              "    <tr>\n",
              "      <th>0</th>\n",
              "      <td>1</td>\n",
              "      <td>OnePlus Nord 5G (Gray Onyx, 8GB RAM, 128GB Sto...</td>\n",
              "      <td>Gray Onyx</td>\n",
              "      <td>Gray</td>\n",
              "      <td>8GB</td>\n",
              "      <td>128GB</td>\n",
              "      <td>4.2</td>\n",
              "      <td>27648</td>\n",
              "      <td>27999</td>\n",
              "      <td>OnePlus Nord 5G</td>\n",
              "      <td>OnePlus</td>\n",
              "    </tr>\n",
              "    <tr>\n",
              "      <th>1</th>\n",
              "      <td>2</td>\n",
              "      <td>OnePlus Nord 5G (Gray Ash, 12GB RAM, 256GB Sto...</td>\n",
              "      <td>Gray Ash</td>\n",
              "      <td>Gray</td>\n",
              "      <td>12GB</td>\n",
              "      <td>256GB</td>\n",
              "      <td>4.2</td>\n",
              "      <td>27648</td>\n",
              "      <td>29999</td>\n",
              "      <td>OnePlus Nord 5G</td>\n",
              "      <td>OnePlus</td>\n",
              "    </tr>\n",
              "    <tr>\n",
              "      <th>2</th>\n",
              "      <td>3</td>\n",
              "      <td>Redmi 9 Prime (Space Blue, 4GB RAM, 64GB Stora...</td>\n",
              "      <td>Space Blue</td>\n",
              "      <td>Blue</td>\n",
              "      <td>4GB</td>\n",
              "      <td>64GB</td>\n",
              "      <td>4.2</td>\n",
              "      <td>9477</td>\n",
              "      <td>9999</td>\n",
              "      <td>Redmi 9 Prime</td>\n",
              "      <td>Redmi</td>\n",
              "    </tr>\n",
              "    <tr>\n",
              "      <th>3</th>\n",
              "      <td>4</td>\n",
              "      <td>Redmi 9A (Sea Blue, 3GB Ram, 32GB Storage)</td>\n",
              "      <td>Sea Blue</td>\n",
              "      <td>Blue</td>\n",
              "      <td>3GB</td>\n",
              "      <td>32GB</td>\n",
              "      <td>4.1</td>\n",
              "      <td>9286</td>\n",
              "      <td>7499</td>\n",
              "      <td>Redmi 9A</td>\n",
              "      <td>Redmi</td>\n",
              "    </tr>\n",
              "    <tr>\n",
              "      <th>4</th>\n",
              "      <td>5</td>\n",
              "      <td>Samsung Galaxy M31 Prime Edition (Ocean Blue, ...</td>\n",
              "      <td>Ocean Blue</td>\n",
              "      <td>Blue</td>\n",
              "      <td>6GB</td>\n",
              "      <td>128GB</td>\n",
              "      <td>4.2</td>\n",
              "      <td>119885</td>\n",
              "      <td>16499</td>\n",
              "      <td>Samsung Galaxy M31 Prime Edition</td>\n",
              "      <td>Samsung</td>\n",
              "    </tr>\n",
              "  </tbody>\n",
              "</table>\n",
              "</div>"
            ],
            "text/plain": [
              "   #  ...    Brand\n",
              "0  1  ...  OnePlus\n",
              "1  2  ...  OnePlus\n",
              "2  3  ...    Redmi\n",
              "3  4  ...    Redmi\n",
              "4  5  ...  Samsung\n",
              "\n",
              "[5 rows x 11 columns]"
            ]
          },
          "metadata": {
            "tags": []
          },
          "execution_count": 6
        }
      ]
    },
    {
      "cell_type": "code",
      "metadata": {
        "colab": {
          "base_uri": "https://localhost:8080/"
        },
        "id": "SpM4kIzbTC_H",
        "outputId": "60c2412a-7068-425b-acb8-67033e9ea980"
      },
      "source": [
        "df['Model'].value_counts()"
      ],
      "execution_count": null,
      "outputs": [
        {
          "output_type": "execute_result",
          "data": {
            "text/plain": [
              "Redmi Note 9 Pro Max                 7\n",
              "Redmi 9 Prime                        7\n",
              "Redmi Note 9                         6\n",
              "Redmi Note 9 Pro                     6\n",
              "Redmi 9A                             6\n",
              "Samsung Galaxy M31                   5\n",
              "Samsung Galaxy M31s                  4\n",
              "OnePlus 8T 5G                        4\n",
              "Samsung Galaxy M01 Core              4\n",
              "Samsung Galaxy M51                   4\n",
              "Redmi 8A Dual                        4\n",
              "Samsung Galaxy M21                   4\n",
              "Redmi 9                              4\n",
              "Samsung Galaxy M11                   3\n",
              "OnePlus Nord 5G                      3\n",
              "Samsung Galaxy M31 Prime Edition     3\n",
              "Redmi Note 8                         3\n",
              "OnePlus 8                            2\n",
              "OPPO F17                             2\n",
              "Samsung Galaxy M01                   2\n",
              "OPPO A31                             2\n",
              "Vivo V20 Pro 5G                      2\n",
              "OPPO A12                             2\n",
              "Vivo Y50                             1\n",
              "Panasonic Eluga i7                   1\n",
              "OnePlus 8 Pro                        1\n",
              "Vivo V19                             1\n",
              "OnePlus 7T Glacier Blue              1\n",
              "Apple iPhone 11                      1\n",
              "OnePlus 7T PRO Haze Blue             1\n",
              "OPPO A53                             1\n",
              "OPPO A5 2020                         1\n",
              "Apple iPhone 7                       1\n",
              "OPPO A52                             1\n",
              "Name: Model, dtype: int64"
            ]
          },
          "metadata": {
            "tags": []
          },
          "execution_count": 7
        }
      ]
    },
    {
      "cell_type": "code",
      "metadata": {
        "colab": {
          "base_uri": "https://localhost:8080/"
        },
        "id": "bqvnHhvdTGDv",
        "outputId": "9bb352c2-dde6-441d-8565-219fc05d3e21"
      },
      "source": [
        "df['Brand'].value_counts()"
      ],
      "execution_count": null,
      "outputs": [
        {
          "output_type": "execute_result",
          "data": {
            "text/plain": [
              "Redmi        43\n",
              "Samsung      29\n",
              "OnePlus      12\n",
              "OPPO          9\n",
              "Vivo          4\n",
              "Apple         2\n",
              "Panasonic     1\n",
              "Name: Brand, dtype: int64"
            ]
          },
          "metadata": {
            "tags": []
          },
          "execution_count": 8
        }
      ]
    },
    {
      "cell_type": "code",
      "metadata": {
        "id": "gZMveceMW0hM"
      },
      "source": [
        "import seaborn as sns\r\n",
        "import matplotlib.pyplot as plt\r\n",
        "sns.set(color_codes=True)"
      ],
      "execution_count": null,
      "outputs": []
    },
    {
      "cell_type": "code",
      "metadata": {
        "id": "lRc_dyBwW2rU"
      },
      "source": [
        "from matplotlib.pyplot import figure\r\n",
        "from matplotlib.pyplot import figure"
      ],
      "execution_count": null,
      "outputs": []
    },
    {
      "cell_type": "code",
      "metadata": {
        "id": "L8E0-48lWthD"
      },
      "source": [
        "import matplotlib.pyplot as plt\r\n",
        "import numpy as np\r\n",
        "sns.set(color_codes=True)"
      ],
      "execution_count": null,
      "outputs": []
    },
    {
      "cell_type": "code",
      "metadata": {
        "colab": {
          "base_uri": "https://localhost:8080/",
          "height": 152
        },
        "id": "7ZAd7iouXQVb",
        "outputId": "5a822169-8043-40a7-bf81-ac0c715378b3"
      },
      "source": [
        "a = df.groupby(['Model'])['Reviews'].sum()\r\n",
        "a = a.reset_index()\r\n",
        "a = a.rename(columns={'Reviews': 'Number of Reviews'})\r\n",
        "fig, ax = plt.subplots(figsize=(75, 10))\r\n",
        "\r\n",
        "sns.barplot(x='Model', y='Number of Reviews', data=a)\r\n",
        "plt.xlabel(\"rating\",fontsize = 5.0)\r\n",
        "plt.ylabel('Number of Reviews',fontsize = 10)\r\n",
        "plt.title('Distribution of Scores', fontsize = 10)"
      ],
      "execution_count": null,
      "outputs": [
        {
          "output_type": "execute_result",
          "data": {
            "text/plain": [
              "Text(0.5, 1.0, 'Distribution of Scores')"
            ]
          },
          "metadata": {
            "tags": []
          },
          "execution_count": 22
        },
        {
          "output_type": "display_data",
          "data": {
            "image/png": "[encoded data removed]",
            "text/plain": [
              "<Figure size 5400x720 with 1 Axes>"
            ]
          },
          "metadata": {
            "tags": []
          }
        }
      ]
    },
    {
      "cell_type": "code",
      "metadata": {
        "colab": {
          "base_uri": "https://localhost:8080/",
          "height": 1000
        },
        "id": "cpu9Are_ZrSJ",
        "outputId": "56058b0b-1ec7-49d7-85b7-9e1d813e6da2"
      },
      "source": [
        "a"
      ],
      "execution_count": null,
      "outputs": [
        {
          "output_type": "execute_result",
          "data": {
            "text/html": [
              "<div>\n",
              "<style scoped>\n",
              "    .dataframe tbody tr th:only-of-type {\n",
              "        vertical-align: middle;\n",
              "    }\n",
              "\n",
              "    .dataframe tbody tr th {\n",
              "        vertical-align: top;\n",
              "    }\n",
              "\n",
              "    .dataframe thead th {\n",
              "        text-align: right;\n",
              "    }\n",
              "</style>\n",
              "<table border=\"1\" class=\"dataframe\">\n",
              "  <thead>\n",
              "    <tr style=\"text-align: right;\">\n",
              "      <th></th>\n",
              "      <th>Model</th>\n",
              "      <th>Number of Reviews</th>\n",
              "    </tr>\n",
              "  </thead>\n",
              "  <tbody>\n",
              "    <tr>\n",
              "      <th>0</th>\n",
              "      <td>Apple iPhone 11</td>\n",
              "      <td>15170</td>\n",
              "    </tr>\n",
              "    <tr>\n",
              "      <th>1</th>\n",
              "      <td>Apple iPhone 7</td>\n",
              "      <td>5261</td>\n",
              "    </tr>\n",
              "    <tr>\n",
              "      <th>2</th>\n",
              "      <td>OPPO A12</td>\n",
              "      <td>3564</td>\n",
              "    </tr>\n",
              "    <tr>\n",
              "      <th>3</th>\n",
              "      <td>OPPO A31</td>\n",
              "      <td>1992</td>\n",
              "    </tr>\n",
              "    <tr>\n",
              "      <th>4</th>\n",
              "      <td>OPPO A5 2020</td>\n",
              "      <td>7962</td>\n",
              "    </tr>\n",
              "    <tr>\n",
              "      <th>5</th>\n",
              "      <td>OPPO A52</td>\n",
              "      <td>1725</td>\n",
              "    </tr>\n",
              "    <tr>\n",
              "      <th>6</th>\n",
              "      <td>OPPO A53</td>\n",
              "      <td>549</td>\n",
              "    </tr>\n",
              "    <tr>\n",
              "      <th>7</th>\n",
              "      <td>OPPO F17</td>\n",
              "      <td>1098</td>\n",
              "    </tr>\n",
              "    <tr>\n",
              "      <th>8</th>\n",
              "      <td>OnePlus 7T Glacier Blue</td>\n",
              "      <td>34671</td>\n",
              "    </tr>\n",
              "    <tr>\n",
              "      <th>9</th>\n",
              "      <td>OnePlus 7T PRO Haze Blue</td>\n",
              "      <td>4841</td>\n",
              "    </tr>\n",
              "    <tr>\n",
              "      <th>10</th>\n",
              "      <td>OnePlus 8</td>\n",
              "      <td>5950</td>\n",
              "    </tr>\n",
              "    <tr>\n",
              "      <th>11</th>\n",
              "      <td>OnePlus 8 Pro</td>\n",
              "      <td>1343</td>\n",
              "    </tr>\n",
              "    <tr>\n",
              "      <th>12</th>\n",
              "      <td>OnePlus 8T 5G</td>\n",
              "      <td>3940</td>\n",
              "    </tr>\n",
              "    <tr>\n",
              "      <th>13</th>\n",
              "      <td>OnePlus Nord 5G</td>\n",
              "      <td>82944</td>\n",
              "    </tr>\n",
              "    <tr>\n",
              "      <th>14</th>\n",
              "      <td>Panasonic Eluga i7</td>\n",
              "      <td>677</td>\n",
              "    </tr>\n",
              "    <tr>\n",
              "      <th>15</th>\n",
              "      <td>Redmi 8A Dual</td>\n",
              "      <td>125328</td>\n",
              "    </tr>\n",
              "    <tr>\n",
              "      <th>16</th>\n",
              "      <td>Redmi 9</td>\n",
              "      <td>29360</td>\n",
              "    </tr>\n",
              "    <tr>\n",
              "      <th>17</th>\n",
              "      <td>Redmi 9 Prime</td>\n",
              "      <td>66339</td>\n",
              "    </tr>\n",
              "    <tr>\n",
              "      <th>18</th>\n",
              "      <td>Redmi 9A</td>\n",
              "      <td>55716</td>\n",
              "    </tr>\n",
              "    <tr>\n",
              "      <th>19</th>\n",
              "      <td>Redmi Note 8</td>\n",
              "      <td>317091</td>\n",
              "    </tr>\n",
              "    <tr>\n",
              "      <th>20</th>\n",
              "      <td>Redmi Note 9</td>\n",
              "      <td>128856</td>\n",
              "    </tr>\n",
              "    <tr>\n",
              "      <th>21</th>\n",
              "      <td>Redmi Note 9 Pro</td>\n",
              "      <td>153378</td>\n",
              "    </tr>\n",
              "    <tr>\n",
              "      <th>22</th>\n",
              "      <td>Redmi Note 9 Pro Max</td>\n",
              "      <td>164941</td>\n",
              "    </tr>\n",
              "    <tr>\n",
              "      <th>23</th>\n",
              "      <td>Samsung Galaxy M01</td>\n",
              "      <td>15602</td>\n",
              "    </tr>\n",
              "    <tr>\n",
              "      <th>24</th>\n",
              "      <td>Samsung Galaxy M01 Core</td>\n",
              "      <td>26260</td>\n",
              "    </tr>\n",
              "    <tr>\n",
              "      <th>25</th>\n",
              "      <td>Samsung Galaxy M11</td>\n",
              "      <td>8763</td>\n",
              "    </tr>\n",
              "    <tr>\n",
              "      <th>26</th>\n",
              "      <td>Samsung Galaxy M21</td>\n",
              "      <td>320684</td>\n",
              "    </tr>\n",
              "    <tr>\n",
              "      <th>27</th>\n",
              "      <td>Samsung Galaxy M31</td>\n",
              "      <td>599425</td>\n",
              "    </tr>\n",
              "    <tr>\n",
              "      <th>28</th>\n",
              "      <td>Samsung Galaxy M31 Prime Edition</td>\n",
              "      <td>359655</td>\n",
              "    </tr>\n",
              "    <tr>\n",
              "      <th>29</th>\n",
              "      <td>Samsung Galaxy M31s</td>\n",
              "      <td>145612</td>\n",
              "    </tr>\n",
              "    <tr>\n",
              "      <th>30</th>\n",
              "      <td>Samsung Galaxy M51</td>\n",
              "      <td>93568</td>\n",
              "    </tr>\n",
              "    <tr>\n",
              "      <th>31</th>\n",
              "      <td>Vivo V19</td>\n",
              "      <td>1983</td>\n",
              "    </tr>\n",
              "    <tr>\n",
              "      <th>32</th>\n",
              "      <td>Vivo V20 Pro 5G</td>\n",
              "      <td>168</td>\n",
              "    </tr>\n",
              "    <tr>\n",
              "      <th>33</th>\n",
              "      <td>Vivo Y50</td>\n",
              "      <td>805</td>\n",
              "    </tr>\n",
              "  </tbody>\n",
              "</table>\n",
              "</div>"
            ],
            "text/plain": [
              "                                Model  Number of Reviews\n",
              "0                    Apple iPhone 11               15170\n",
              "1                     Apple iPhone 7                5261\n",
              "2                           OPPO A12                3564\n",
              "3                           OPPO A31                1992\n",
              "4                       OPPO A5 2020                7962\n",
              "5                           OPPO A52                1725\n",
              "6                           OPPO A53                 549\n",
              "7                           OPPO F17                1098\n",
              "8            OnePlus 7T Glacier Blue               34671\n",
              "9           OnePlus 7T PRO Haze Blue                4841\n",
              "10                         OnePlus 8                5950\n",
              "11                     OnePlus 8 Pro                1343\n",
              "12                     OnePlus 8T 5G                3940\n",
              "13                   OnePlus Nord 5G               82944\n",
              "14                Panasonic Eluga i7                 677\n",
              "15                     Redmi 8A Dual              125328\n",
              "16                           Redmi 9               29360\n",
              "17                     Redmi 9 Prime               66339\n",
              "18                          Redmi 9A               55716\n",
              "19                      Redmi Note 8              317091\n",
              "20                      Redmi Note 9              128856\n",
              "21                  Redmi Note 9 Pro              153378\n",
              "22              Redmi Note 9 Pro Max              164941\n",
              "23                Samsung Galaxy M01               15602\n",
              "24           Samsung Galaxy M01 Core               26260\n",
              "25                Samsung Galaxy M11                8763\n",
              "26                Samsung Galaxy M21              320684\n",
              "27                Samsung Galaxy M31              599425\n",
              "28  Samsung Galaxy M31 Prime Edition              359655\n",
              "29               Samsung Galaxy M31s              145612\n",
              "30                Samsung Galaxy M51               93568\n",
              "31                          Vivo V19                1983\n",
              "32                   Vivo V20 Pro 5G                 168\n",
              "33                          Vivo Y50                 805"
            ]
          },
          "metadata": {
            "tags": []
          },
          "execution_count": 13
        }
      ]
    },
    {
      "cell_type": "code",
      "metadata": {
        "colab": {
          "base_uri": "https://localhost:8080/",
          "height": 659
        },
        "id": "2IwovaHnG6hM",
        "outputId": "5a772a73-716a-46a4-8569-767ffac3c89e"
      },
      "source": [
        "b = df.groupby(['Brand'])['Reviews'].sum()\r\n",
        "b = b.reset_index()\r\n",
        "b = b.rename(columns={'Reviews': 'Number of Reviews1'})\r\n",
        "fig, ax = plt.subplots(figsize=(20, 10))\r\n",
        "\r\n",
        "sns.barplot(x='Brand', y='Number of Reviews1', data=b)\r\n",
        "plt.xlabel(\"rating\",fontsize = 10.0)\r\n",
        "plt.ylabel('Number of Reviews',fontsize = 10)\r\n",
        "plt.title('Distribution of Reviews', fontsize = 10)"
      ],
      "execution_count": null,
      "outputs": [
        {
          "output_type": "execute_result",
          "data": {
            "text/plain": [
              "Text(0.5, 1.0, 'Distribution of Reviews')"
            ]
          },
          "metadata": {
            "tags": []
          },
          "execution_count": 23
        },
        {
          "output_type": "display_data",
          "data": {
            "image/png": "[encoded data removed]",
            "text/plain": [
              "<Figure size 1440x720 with 1 Axes>"
            ]
          },
          "metadata": {
            "tags": []
          }
        }
      ]
    },
    {
      "cell_type": "code",
      "metadata": {
        "colab": {
          "base_uri": "https://localhost:8080/",
          "height": 266
        },
        "id": "tw2JMLGrIXjk",
        "outputId": "2708f951-1d6e-4967-974e-0e33b121f4f0"
      },
      "source": [
        "b"
      ],
      "execution_count": null,
      "outputs": [
        {
          "output_type": "execute_result",
          "data": {
            "text/html": [
              "<div>\n",
              "<style scoped>\n",
              "    .dataframe tbody tr th:only-of-type {\n",
              "        vertical-align: middle;\n",
              "    }\n",
              "\n",
              "    .dataframe tbody tr th {\n",
              "        vertical-align: top;\n",
              "    }\n",
              "\n",
              "    .dataframe thead th {\n",
              "        text-align: right;\n",
              "    }\n",
              "</style>\n",
              "<table border=\"1\" class=\"dataframe\">\n",
              "  <thead>\n",
              "    <tr style=\"text-align: right;\">\n",
              "      <th></th>\n",
              "      <th>Brand</th>\n",
              "      <th>Number of Reviews1</th>\n",
              "    </tr>\n",
              "  </thead>\n",
              "  <tbody>\n",
              "    <tr>\n",
              "      <th>0</th>\n",
              "      <td>Apple</td>\n",
              "      <td>20431</td>\n",
              "    </tr>\n",
              "    <tr>\n",
              "      <th>1</th>\n",
              "      <td>OPPO</td>\n",
              "      <td>16890</td>\n",
              "    </tr>\n",
              "    <tr>\n",
              "      <th>2</th>\n",
              "      <td>OnePlus</td>\n",
              "      <td>133689</td>\n",
              "    </tr>\n",
              "    <tr>\n",
              "      <th>3</th>\n",
              "      <td>Panasonic</td>\n",
              "      <td>677</td>\n",
              "    </tr>\n",
              "    <tr>\n",
              "      <th>4</th>\n",
              "      <td>Redmi</td>\n",
              "      <td>1041009</td>\n",
              "    </tr>\n",
              "    <tr>\n",
              "      <th>5</th>\n",
              "      <td>Samsung</td>\n",
              "      <td>1569569</td>\n",
              "    </tr>\n",
              "    <tr>\n",
              "      <th>6</th>\n",
              "      <td>Vivo</td>\n",
              "      <td>2956</td>\n",
              "    </tr>\n",
              "  </tbody>\n",
              "</table>\n",
              "</div>"
            ],
            "text/plain": [
              "       Brand  Number of Reviews1\n",
              "0      Apple               20431\n",
              "1       OPPO               16890\n",
              "2    OnePlus              133689\n",
              "3  Panasonic                 677\n",
              "4      Redmi             1041009\n",
              "5    Samsung             1569569\n",
              "6       Vivo                2956"
            ]
          },
          "metadata": {
            "tags": []
          },
          "execution_count": 24
        }
      ]
    }
  ]
}